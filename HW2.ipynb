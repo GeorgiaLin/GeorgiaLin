{
  "cells": [
    {
      "cell_type": "markdown",
      "metadata": {
        "id": "view-in-github",
        "colab_type": "text"
      },
      "source": [
        "<a href=\"https://colab.research.google.com/github/GeorgiaLin/GeorgiaLin/blob/main/HW2.ipynb\" target=\"_parent\"><img src=\"https://colab.research.google.com/assets/colab-badge.svg\" alt=\"Open In Colab\"/></a>"
      ]
    },
    {
      "cell_type": "markdown",
      "metadata": {
        "id": "ZlBhEu6H1Pgm"
      },
      "source": [
        "# Human AI Interaction HW2\n",
        "\n",
        "Risk assessment tool has been commonly used in criminal justice systems. In the United States, judges set\n",
        "bail and decide pre-trial detention based on their assessment of the risk that a released defendant would fail to\n",
        "appear at trial or cause harm to the public. While actuarial risk assessment is not new in this domain, there\n",
        "is increasing support for the use of learned risk scores to guide human judges in their decisions. However, there are concerns that such scores can perpetuate inequalities found in historical\n",
        "data, and systematically harm historically disadvantaged groups.\n",
        "\n",
        "In this homework, we will look into\n",
        "an [investigation](https://www.propublica.org/article/how-we-analyzed-the-compas-recidivism-algorithm) carried out by ProPublica of a proprietary risk score, called the COMPAS score. These scores are intended to assess the risk that a defendant will re-offend, a task often called\n",
        "recidivism prediction.\n",
        "\n",
        "Please answer all of the questions and fill in all the required code (indicated as comment `FILL IN`). When you are ready, submit the ipynb file to Canvas."
      ]
    },
    {
      "cell_type": "markdown",
      "metadata": {
        "id": "sekNFI_1d9AJ"
      },
      "source": [
        "# Loading basic libraries\n",
        "We will begin by importing these libraries. \n",
        "* [matplotlib](https://matplotlib.org/3.1.1/contents.html)\n",
        "* [numpy](https://docs.scipy.org/doc/)\n",
        "* [pandas](https://pandas.pydata.org/pandas-docs/stable/)\n",
        "\n",
        "You are encouraged to read the documentation of these libraries.\n"
      ]
    },
    {
      "cell_type": "code",
      "execution_count": null,
      "metadata": {
        "id": "jUp18QfAeav2"
      },
      "outputs": [],
      "source": [
        "import matplotlib.pyplot as plt\n",
        "import matplotlib.ticker\n",
        "import numpy as np\n",
        "import pandas as pd\n",
        "\n",
        "# Imports and helper functions used for tests. \n",
        "import hashlib\n",
        "import sys\n",
        "\n",
        "def get_hash(num):\n",
        "    return hashlib.md5(str(num).encode()).hexdigest()\n"
      ]
    },
    {
      "cell_type": "markdown",
      "metadata": {
        "id": "0a1V6zjCewyw"
      },
      "source": [
        "# Dataset\n",
        "As a result of a public records request in Broward\n",
        "Country, Florida, ProPublica released their dataset, which is available at https://raw.githubusercontent.com/propublica/compas-analysis/master/compas-scores-two-years.csv. \n",
        "\n",
        "Here, we will download the data from the link above and apply this filter."
      ]
    },
    {
      "cell_type": "code",
      "execution_count": null,
      "metadata": {
        "id": "_n1iMnFOhbWq"
      },
      "outputs": [],
      "source": [
        "data_url = \"https://raw.githubusercontent.com/propublica/compas-analysis/master/compas-scores-two-years.csv\"\n",
        "df = pd.read_csv(data_url)"
      ]
    },
    {
      "cell_type": "markdown",
      "metadata": {
        "id": "whpaxhbNjEZ0"
      },
      "source": [
        "## Pre-processing\n",
        "Following ProPublica’s analysis, we will filter out rows where `days_b_screening_arrest` is over $30$ or under $−30$."
      ]
    },
    {
      "cell_type": "code",
      "execution_count": null,
      "metadata": {
        "id": "6Prcei1ii5P4"
      },
      "outputs": [],
      "source": [
        "df = df.query('days_b_screening_arrest <= 30 & days_b_screening_arrest >= -30')"
      ]
    },
    {
      "cell_type": "markdown",
      "metadata": {
        "id": "maJG-69unRLT"
      },
      "source": [
        "# Part 1 Protected Groups\n",
        "\n",
        "We will filter the data for only two races."
      ]
    },
    {
      "cell_type": "code",
      "execution_count": null,
      "metadata": {
        "colab": {
          "base_uri": "https://localhost:8080/",
          "height": 305
        },
        "id": "V2gSSpOwqOuP",
        "outputId": "3f5b697e-1c46-4ce6-a7a9-ca861f693887"
      },
      "outputs": [
        {
          "data": {
            "text/html": [
              "<div>\n",
              "<style scoped>\n",
              "    .dataframe tbody tr th:only-of-type {\n",
              "        vertical-align: middle;\n",
              "    }\n",
              "\n",
              "    .dataframe tbody tr th {\n",
              "        vertical-align: top;\n",
              "    }\n",
              "\n",
              "    .dataframe thead th {\n",
              "        text-align: right;\n",
              "    }\n",
              "</style>\n",
              "<table border=\"1\" class=\"dataframe\">\n",
              "  <thead>\n",
              "    <tr style=\"text-align: right;\">\n",
              "      <th></th>\n",
              "      <th>id</th>\n",
              "      <th>name</th>\n",
              "      <th>first</th>\n",
              "      <th>last</th>\n",
              "      <th>compas_screening_date</th>\n",
              "      <th>sex</th>\n",
              "      <th>dob</th>\n",
              "      <th>age</th>\n",
              "      <th>age_cat</th>\n",
              "      <th>race</th>\n",
              "      <th>...</th>\n",
              "      <th>v_decile_score</th>\n",
              "      <th>v_score_text</th>\n",
              "      <th>v_screening_date</th>\n",
              "      <th>in_custody</th>\n",
              "      <th>out_custody</th>\n",
              "      <th>priors_count.1</th>\n",
              "      <th>start</th>\n",
              "      <th>end</th>\n",
              "      <th>event</th>\n",
              "      <th>two_year_recid</th>\n",
              "    </tr>\n",
              "  </thead>\n",
              "  <tbody>\n",
              "    <tr>\n",
              "      <th>1</th>\n",
              "      <td>3</td>\n",
              "      <td>kevon dixon</td>\n",
              "      <td>kevon</td>\n",
              "      <td>dixon</td>\n",
              "      <td>2013-01-27</td>\n",
              "      <td>Male</td>\n",
              "      <td>1982-01-22</td>\n",
              "      <td>34</td>\n",
              "      <td>25 - 45</td>\n",
              "      <td>African-American</td>\n",
              "      <td>...</td>\n",
              "      <td>1</td>\n",
              "      <td>Low</td>\n",
              "      <td>2013-01-27</td>\n",
              "      <td>2013-01-26</td>\n",
              "      <td>2013-02-05</td>\n",
              "      <td>0</td>\n",
              "      <td>9</td>\n",
              "      <td>159</td>\n",
              "      <td>1</td>\n",
              "      <td>1</td>\n",
              "    </tr>\n",
              "    <tr>\n",
              "      <th>2</th>\n",
              "      <td>4</td>\n",
              "      <td>ed philo</td>\n",
              "      <td>ed</td>\n",
              "      <td>philo</td>\n",
              "      <td>2013-04-14</td>\n",
              "      <td>Male</td>\n",
              "      <td>1991-05-14</td>\n",
              "      <td>24</td>\n",
              "      <td>Less than 25</td>\n",
              "      <td>African-American</td>\n",
              "      <td>...</td>\n",
              "      <td>3</td>\n",
              "      <td>Low</td>\n",
              "      <td>2013-04-14</td>\n",
              "      <td>2013-06-16</td>\n",
              "      <td>2013-06-16</td>\n",
              "      <td>4</td>\n",
              "      <td>0</td>\n",
              "      <td>63</td>\n",
              "      <td>0</td>\n",
              "      <td>1</td>\n",
              "    </tr>\n",
              "    <tr>\n",
              "      <th>6</th>\n",
              "      <td>8</td>\n",
              "      <td>edward riddle</td>\n",
              "      <td>edward</td>\n",
              "      <td>riddle</td>\n",
              "      <td>2014-02-19</td>\n",
              "      <td>Male</td>\n",
              "      <td>1974-07-23</td>\n",
              "      <td>41</td>\n",
              "      <td>25 - 45</td>\n",
              "      <td>Caucasian</td>\n",
              "      <td>...</td>\n",
              "      <td>2</td>\n",
              "      <td>Low</td>\n",
              "      <td>2014-02-19</td>\n",
              "      <td>2014-03-31</td>\n",
              "      <td>2014-04-18</td>\n",
              "      <td>14</td>\n",
              "      <td>5</td>\n",
              "      <td>40</td>\n",
              "      <td>1</td>\n",
              "      <td>1</td>\n",
              "    </tr>\n",
              "    <tr>\n",
              "      <th>8</th>\n",
              "      <td>10</td>\n",
              "      <td>elizabeth thieme</td>\n",
              "      <td>elizabeth</td>\n",
              "      <td>thieme</td>\n",
              "      <td>2014-03-16</td>\n",
              "      <td>Female</td>\n",
              "      <td>1976-06-03</td>\n",
              "      <td>39</td>\n",
              "      <td>25 - 45</td>\n",
              "      <td>Caucasian</td>\n",
              "      <td>...</td>\n",
              "      <td>1</td>\n",
              "      <td>Low</td>\n",
              "      <td>2014-03-16</td>\n",
              "      <td>2014-03-15</td>\n",
              "      <td>2014-03-18</td>\n",
              "      <td>0</td>\n",
              "      <td>2</td>\n",
              "      <td>747</td>\n",
              "      <td>0</td>\n",
              "      <td>0</td>\n",
              "    </tr>\n",
              "    <tr>\n",
              "      <th>10</th>\n",
              "      <td>14</td>\n",
              "      <td>benjamin franc</td>\n",
              "      <td>benjamin</td>\n",
              "      <td>franc</td>\n",
              "      <td>2013-11-26</td>\n",
              "      <td>Male</td>\n",
              "      <td>1988-06-01</td>\n",
              "      <td>27</td>\n",
              "      <td>25 - 45</td>\n",
              "      <td>Caucasian</td>\n",
              "      <td>...</td>\n",
              "      <td>4</td>\n",
              "      <td>Low</td>\n",
              "      <td>2013-11-26</td>\n",
              "      <td>2013-11-25</td>\n",
              "      <td>2013-11-26</td>\n",
              "      <td>0</td>\n",
              "      <td>0</td>\n",
              "      <td>857</td>\n",
              "      <td>0</td>\n",
              "      <td>0</td>\n",
              "    </tr>\n",
              "  </tbody>\n",
              "</table>\n",
              "<p>5 rows × 53 columns</p>\n",
              "</div>"
            ],
            "text/plain": [
              "    id              name      first    last compas_screening_date     sex  \\\n",
              "1    3       kevon dixon      kevon   dixon            2013-01-27    Male   \n",
              "2    4          ed philo         ed   philo            2013-04-14    Male   \n",
              "6    8     edward riddle     edward  riddle            2014-02-19    Male   \n",
              "8   10  elizabeth thieme  elizabeth  thieme            2014-03-16  Female   \n",
              "10  14    benjamin franc   benjamin   franc            2013-11-26    Male   \n",
              "\n",
              "           dob  age       age_cat              race  ...  v_decile_score  \\\n",
              "1   1982-01-22   34       25 - 45  African-American  ...               1   \n",
              "2   1991-05-14   24  Less than 25  African-American  ...               3   \n",
              "6   1974-07-23   41       25 - 45         Caucasian  ...               2   \n",
              "8   1976-06-03   39       25 - 45         Caucasian  ...               1   \n",
              "10  1988-06-01   27       25 - 45         Caucasian  ...               4   \n",
              "\n",
              "    v_score_text  v_screening_date  in_custody  out_custody  priors_count.1  \\\n",
              "1            Low        2013-01-27  2013-01-26   2013-02-05               0   \n",
              "2            Low        2013-04-14  2013-06-16   2013-06-16               4   \n",
              "6            Low        2014-02-19  2014-03-31   2014-04-18              14   \n",
              "8            Low        2014-03-16  2014-03-15   2014-03-18               0   \n",
              "10           Low        2013-11-26  2013-11-25   2013-11-26               0   \n",
              "\n",
              "   start  end event two_year_recid  \n",
              "1      9  159     1              1  \n",
              "2      0   63     0              1  \n",
              "6      5   40     1              1  \n",
              "8      2  747     0              0  \n",
              "10     0  857     0              0  \n",
              "\n",
              "[5 rows x 53 columns]"
            ]
          },
          "execution_count": 10,
          "metadata": {},
          "output_type": "execute_result"
        }
      ],
      "source": [
        "races = ['African-American', 'Caucasian']\n",
        "df = df[df['race'].isin(races)]\n",
        "df.head(5)"
      ]
    },
    {
      "cell_type": "markdown",
      "metadata": {
        "id": "wpKiFATutKu0"
      },
      "source": [
        "## Question 1.A: How many rows are in the `African-American` group? How many in the `Caucasian` group?\n",
        "_Double click to write your answer question here. Show your work in code below if applicable._"
      ]
    },
    {
      "cell_type": "code",
      "execution_count": null,
      "metadata": {
        "id": "9CSqm5ZO14qr",
        "outputId": "334ad850-a7f6-49de-c4c4-d75399ed7e85"
      },
      "outputs": [
        {
          "name": "stdout",
          "output_type": "stream",
          "text": [
            "black:\n",
            "(3175,)\n",
            "white:\n",
            "(2103,)\n"
          ]
        }
      ],
      "source": [
        "# There are 3175 rows in then African-American group and there are 2103 rows in the Caucasion group. \n",
        "df_all = df['race']\n",
        "df_black = df_all[df['race'] == 'African-American']\n",
        "df_white = df_all[df['race'] == 'Caucasian']\n",
        "\n",
        "print('black:')\n",
        "print(df_black.shape)\n",
        "df_white = df_all[df['race'] == 'Caucasian']\n",
        "\n",
        "print('white:')\n",
        "print(df_white.shape)"
      ]
    },
    {
      "cell_type": "markdown",
      "metadata": {
        "id": "M5iQjd-8yRNQ"
      },
      "source": [
        "# Part 2 Predictions by thresholding the scores\n",
        "\n",
        "Suppose we make predictions by setting a threshold on the COMPAS risk scores. That is we predict an individual will re-offend (recidivate) if their score is greater than equal the threshold.\n",
        "\n",
        "The dataset does not contain the original COMPAS risk scores. Instead, the column `decile_score` provides the decile of the COMPAS risk score (similar to a percentile, but out of 10). We will refer to this decile value (a number between 1 and 10) as our COMPAS \"decile score\". "
      ]
    },
    {
      "cell_type": "markdown",
      "metadata": {
        "id": "Hwkre6H0YrY0"
      },
      "source": [
        "## Grouping the examples by `race` and `decile_score`.\n",
        "\n",
        "We will first create a dataframe that groups the individuals according to their (`race`, `decile_score`) pairs."
      ]
    },
    {
      "cell_type": "code",
      "execution_count": null,
      "metadata": {
        "id": "qCGAUTiY19sL",
        "outputId": "508a1f87-babf-46ea-87d1-b72ffb86bbff"
      },
      "outputs": [
        {
          "data": {
            "text/html": [
              "<div>\n",
              "<style scoped>\n",
              "    .dataframe tbody tr th:only-of-type {\n",
              "        vertical-align: middle;\n",
              "    }\n",
              "\n",
              "    .dataframe tbody tr th {\n",
              "        vertical-align: top;\n",
              "    }\n",
              "\n",
              "    .dataframe thead th {\n",
              "        text-align: right;\n",
              "    }\n",
              "</style>\n",
              "<table border=\"1\" class=\"dataframe\">\n",
              "  <thead>\n",
              "    <tr style=\"text-align: right;\">\n",
              "      <th></th>\n",
              "      <th>race</th>\n",
              "      <th>decile_score</th>\n",
              "      <th>size</th>\n",
              "    </tr>\n",
              "  </thead>\n",
              "  <tbody>\n",
              "    <tr>\n",
              "      <th>0</th>\n",
              "      <td>African-American</td>\n",
              "      <td>1</td>\n",
              "      <td>365</td>\n",
              "    </tr>\n",
              "    <tr>\n",
              "      <th>1</th>\n",
              "      <td>African-American</td>\n",
              "      <td>2</td>\n",
              "      <td>346</td>\n",
              "    </tr>\n",
              "    <tr>\n",
              "      <th>2</th>\n",
              "      <td>African-American</td>\n",
              "      <td>3</td>\n",
              "      <td>298</td>\n",
              "    </tr>\n",
              "    <tr>\n",
              "      <th>3</th>\n",
              "      <td>African-American</td>\n",
              "      <td>4</td>\n",
              "      <td>337</td>\n",
              "    </tr>\n",
              "    <tr>\n",
              "      <th>4</th>\n",
              "      <td>African-American</td>\n",
              "      <td>5</td>\n",
              "      <td>323</td>\n",
              "    </tr>\n",
              "    <tr>\n",
              "      <th>5</th>\n",
              "      <td>African-American</td>\n",
              "      <td>6</td>\n",
              "      <td>318</td>\n",
              "    </tr>\n",
              "    <tr>\n",
              "      <th>6</th>\n",
              "      <td>African-American</td>\n",
              "      <td>7</td>\n",
              "      <td>343</td>\n",
              "    </tr>\n",
              "    <tr>\n",
              "      <th>7</th>\n",
              "      <td>African-American</td>\n",
              "      <td>8</td>\n",
              "      <td>301</td>\n",
              "    </tr>\n",
              "    <tr>\n",
              "      <th>8</th>\n",
              "      <td>African-American</td>\n",
              "      <td>9</td>\n",
              "      <td>317</td>\n",
              "    </tr>\n",
              "    <tr>\n",
              "      <th>9</th>\n",
              "      <td>African-American</td>\n",
              "      <td>10</td>\n",
              "      <td>227</td>\n",
              "    </tr>\n",
              "    <tr>\n",
              "      <th>10</th>\n",
              "      <td>Caucasian</td>\n",
              "      <td>1</td>\n",
              "      <td>605</td>\n",
              "    </tr>\n",
              "    <tr>\n",
              "      <th>11</th>\n",
              "      <td>Caucasian</td>\n",
              "      <td>2</td>\n",
              "      <td>321</td>\n",
              "    </tr>\n",
              "    <tr>\n",
              "      <th>12</th>\n",
              "      <td>Caucasian</td>\n",
              "      <td>3</td>\n",
              "      <td>238</td>\n",
              "    </tr>\n",
              "    <tr>\n",
              "      <th>13</th>\n",
              "      <td>Caucasian</td>\n",
              "      <td>4</td>\n",
              "      <td>243</td>\n",
              "    </tr>\n",
              "    <tr>\n",
              "      <th>14</th>\n",
              "      <td>Caucasian</td>\n",
              "      <td>5</td>\n",
              "      <td>200</td>\n",
              "    </tr>\n",
              "    <tr>\n",
              "      <th>15</th>\n",
              "      <td>Caucasian</td>\n",
              "      <td>6</td>\n",
              "      <td>160</td>\n",
              "    </tr>\n",
              "    <tr>\n",
              "      <th>16</th>\n",
              "      <td>Caucasian</td>\n",
              "      <td>7</td>\n",
              "      <td>113</td>\n",
              "    </tr>\n",
              "    <tr>\n",
              "      <th>17</th>\n",
              "      <td>Caucasian</td>\n",
              "      <td>8</td>\n",
              "      <td>96</td>\n",
              "    </tr>\n",
              "    <tr>\n",
              "      <th>18</th>\n",
              "      <td>Caucasian</td>\n",
              "      <td>9</td>\n",
              "      <td>77</td>\n",
              "    </tr>\n",
              "    <tr>\n",
              "      <th>19</th>\n",
              "      <td>Caucasian</td>\n",
              "      <td>10</td>\n",
              "      <td>50</td>\n",
              "    </tr>\n",
              "  </tbody>\n",
              "</table>\n",
              "</div>"
            ],
            "text/plain": [
              "                race  decile_score  size\n",
              "0   African-American             1   365\n",
              "1   African-American             2   346\n",
              "2   African-American             3   298\n",
              "3   African-American             4   337\n",
              "4   African-American             5   323\n",
              "5   African-American             6   318\n",
              "6   African-American             7   343\n",
              "7   African-American             8   301\n",
              "8   African-American             9   317\n",
              "9   African-American            10   227\n",
              "10         Caucasian             1   605\n",
              "11         Caucasian             2   321\n",
              "12         Caucasian             3   238\n",
              "13         Caucasian             4   243\n",
              "14         Caucasian             5   200\n",
              "15         Caucasian             6   160\n",
              "16         Caucasian             7   113\n",
              "17         Caucasian             8    96\n",
              "18         Caucasian             9    77\n",
              "19         Caucasian            10    50"
            ]
          },
          "execution_count": 12,
          "metadata": {},
          "output_type": "execute_result"
        }
      ],
      "source": [
        "groups = df.groupby(['race', 'decile_score'], as_index=False)\n",
        "groups.size()"
      ]
    },
    {
      "cell_type": "markdown",
      "metadata": {
        "id": "YSBot_wAajaU"
      },
      "source": [
        "## Question 2.A. For each `race`/`decile_score` pair, implement the following:\n",
        "1. `total_count_fn` that returns the total number of examples in the dataframe. \n",
        "2. `recid_count_fn` that returns the number of cases where recidivism occurred within two years,\n",
        "2. `non_recid_count_fn` that returns the number of cases where recidivism did not occur, and \n",
        "\n",
        "We have already provided a skeleton for each function and a test to help you check for correctness.\n",
        "\n",
        "Note: the column `two_year_recid` is a column that takes value 1 if recidivism occurred within two years, and 0 if recidivism did not occur."
      ]
    },
    {
      "cell_type": "code",
      "execution_count": null,
      "metadata": {
        "id": "gfm5GTcaapBk",
        "outputId": "a3114b6e-9398-4964-e6da-26b3cc9951e4"
      },
      "outputs": [
        {
          "name": "stdout",
          "output_type": "stream",
          "text": [
            "Total number of examples in the dataset: 5278\n",
            "Test passed!\n"
          ]
        }
      ],
      "source": [
        "# Compute the total number of examples in the dataset.\n",
        "def total_count_fn(df_recid_column):\n",
        "    \"\"\"Computes the total number of examples in the dataset.\n",
        "    \n",
        "    Args: \n",
        "      df_recid_column: dataframe column where each row takes value 1 if \n",
        "        recidivism occured, and 0 if recidivism did not occur.\n",
        "    \n",
        "    Returns: \n",
        "      The total number of rows in the dataset.\n",
        "    \"\"\"\n",
        "    total_count =  len(df_recid_column)\n",
        "    return total_count \n",
        "\n",
        "print(\"Total number of examples in the dataset:\", total_count_fn(df['two_year_recid']))\n",
        "\n",
        "# Test for correctness of this function.\n",
        "assert(get_hash(total_count_fn(df['two_year_recid'])) == '82f292a22966b857d968fb578ccbead9')\n",
        "print(\"Test passed!\")"
      ]
    },
    {
      "cell_type": "code",
      "execution_count": null,
      "metadata": {
        "id": "89YWx3Zg2OEi",
        "outputId": "8f2fd5e6-47a0-4d0f-a301-fb1efbcc49e0"
      },
      "outputs": [
        {
          "name": "stdout",
          "output_type": "stream",
          "text": [
            "Total number of examples of recidivism in the dataset: 2483\n",
            "Test passed!\n",
            "Total number of examples of non-recidivism in the dataset: 2795\n",
            "Test passed!\n"
          ]
        }
      ],
      "source": [
        "# Compute the total number of examples in which recidivism occurred within two years.\n",
        "def recid_count_fn(df_recid_column):\n",
        "    \"\"\"Computes the total number of examples in which recidivism occurred in two years.\n",
        "    \n",
        "    Args: \n",
        "      df_recid_column: dataframe column where each row takes value 1 if \n",
        "        recidivism occured, and 0 if recidivism did not occur.\n",
        "    \n",
        "    Returns: \n",
        "      The total number of rows in which recidivism occurred in two years.\n",
        "    \"\"\"\n",
        "\n",
        "    count = 0\n",
        "    for i in df_recid_column:\n",
        "        if(i == 1):\n",
        "            count = count + 1\n",
        "    recid_count =  count\n",
        "    return recid_count\n",
        "\n",
        "print(\"Total number of examples of recidivism in the dataset:\", recid_count_fn(df['two_year_recid']))\n",
        "\n",
        "# Test for correctness of this function.\n",
        "assert(get_hash(recid_count_fn(df['two_year_recid'])) == '2c6ae45a3e88aee548c0714fad7f8269')\n",
        "print(\"Test passed!\")\n",
        "\n",
        "# Compute the total number of examples in which recidivism did not occur within two years.\n",
        "def non_recid_count_fn(df_recid_column):\n",
        "    \"\"\"Computes the total number of examples in which recidivism did not occur.\n",
        "    \n",
        "    Args: \n",
        "      df_recid_column: dataframe column where each row takes value 1 if \n",
        "        recidivism occured, and 0 if recidivism did not occur.\n",
        "    \n",
        "    Returns: \n",
        "      The total number of rows in which recidivism did not occur.\n",
        "    \"\"\"\n",
        "    count = 0\n",
        "    for i in df_recid_column:\n",
        "        if(i == 0):\n",
        "            count = count + 1\n",
        "    non_recid_count = count\n",
        "    return non_recid_count \n",
        "\n",
        "print(\"Total number of examples of non-recidivism in the dataset:\", non_recid_count_fn(df['two_year_recid']))\n",
        "\n",
        "# Test for correctness of this function.\n",
        "assert(get_hash(non_recid_count_fn(df['two_year_recid'])) == 'a7f592cef8b130a6967a90617db5681b')\n",
        "print(\"Test passed!\")"
      ]
    },
    {
      "cell_type": "markdown",
      "metadata": {
        "id": "vbudH6Wx52Mb"
      },
      "source": [
        "### Create the `summary` dataframe\n",
        "We now create a dataframe called `summary`, where each row contains summary statistics for each `race`/`decile_score` pair, including the total number of examples with that race and decile_score (`total_count`), the number of examples with that race and decile_score where recidivism **did occurred** (`recid_count`), and the number of examples with that race and decile_score where recidivism **did NOT occurred** (`non_recid_count`).\n",
        "In other words, `total_count` = `recid_count` + `non_recid_count`. As you could observe in the below dataframe, for the row 0, we have 85 + 280  =365\n",
        "\n",
        "\n",
        "The `.agg` function below applies the functions you just wrote over a column of the dataframe corresponding to each `race`/`decile_score` pair. \n",
        "Each function will be computed on the column `two_year_recid` for each `race`/`decile_score` pair."
      ]
    },
    {
      "cell_type": "code",
      "execution_count": null,
      "metadata": {
        "id": "Wbcor4Ue63mN",
        "outputId": "14f269f5-5a61-41a6-f7b9-954801e48219"
      },
      "outputs": [
        {
          "data": {
            "text/html": [
              "<div>\n",
              "<style scoped>\n",
              "    .dataframe tbody tr th:only-of-type {\n",
              "        vertical-align: middle;\n",
              "    }\n",
              "\n",
              "    .dataframe tbody tr th {\n",
              "        vertical-align: top;\n",
              "    }\n",
              "\n",
              "    .dataframe thead th {\n",
              "        text-align: right;\n",
              "    }\n",
              "</style>\n",
              "<table border=\"1\" class=\"dataframe\">\n",
              "  <thead>\n",
              "    <tr style=\"text-align: right;\">\n",
              "      <th></th>\n",
              "      <th>race</th>\n",
              "      <th>decile_score</th>\n",
              "      <th>recid_count</th>\n",
              "      <th>non_recid_count</th>\n",
              "      <th>total_count</th>\n",
              "    </tr>\n",
              "  </thead>\n",
              "  <tbody>\n",
              "    <tr>\n",
              "      <th>0</th>\n",
              "      <td>African-American</td>\n",
              "      <td>1</td>\n",
              "      <td>85</td>\n",
              "      <td>280</td>\n",
              "      <td>365</td>\n",
              "    </tr>\n",
              "    <tr>\n",
              "      <th>1</th>\n",
              "      <td>African-American</td>\n",
              "      <td>2</td>\n",
              "      <td>105</td>\n",
              "      <td>241</td>\n",
              "      <td>346</td>\n",
              "    </tr>\n",
              "    <tr>\n",
              "      <th>2</th>\n",
              "      <td>African-American</td>\n",
              "      <td>3</td>\n",
              "      <td>125</td>\n",
              "      <td>173</td>\n",
              "      <td>298</td>\n",
              "    </tr>\n",
              "    <tr>\n",
              "      <th>3</th>\n",
              "      <td>African-American</td>\n",
              "      <td>4</td>\n",
              "      <td>158</td>\n",
              "      <td>179</td>\n",
              "      <td>337</td>\n",
              "    </tr>\n",
              "    <tr>\n",
              "      <th>4</th>\n",
              "      <td>African-American</td>\n",
              "      <td>5</td>\n",
              "      <td>158</td>\n",
              "      <td>165</td>\n",
              "      <td>323</td>\n",
              "    </tr>\n",
              "    <tr>\n",
              "      <th>5</th>\n",
              "      <td>African-American</td>\n",
              "      <td>6</td>\n",
              "      <td>187</td>\n",
              "      <td>131</td>\n",
              "      <td>318</td>\n",
              "    </tr>\n",
              "    <tr>\n",
              "      <th>6</th>\n",
              "      <td>African-American</td>\n",
              "      <td>7</td>\n",
              "      <td>209</td>\n",
              "      <td>134</td>\n",
              "      <td>343</td>\n",
              "    </tr>\n",
              "    <tr>\n",
              "      <th>7</th>\n",
              "      <td>African-American</td>\n",
              "      <td>8</td>\n",
              "      <td>215</td>\n",
              "      <td>86</td>\n",
              "      <td>301</td>\n",
              "    </tr>\n",
              "    <tr>\n",
              "      <th>8</th>\n",
              "      <td>African-American</td>\n",
              "      <td>9</td>\n",
              "      <td>229</td>\n",
              "      <td>88</td>\n",
              "      <td>317</td>\n",
              "    </tr>\n",
              "    <tr>\n",
              "      <th>9</th>\n",
              "      <td>African-American</td>\n",
              "      <td>10</td>\n",
              "      <td>190</td>\n",
              "      <td>37</td>\n",
              "      <td>227</td>\n",
              "    </tr>\n",
              "    <tr>\n",
              "      <th>10</th>\n",
              "      <td>Caucasian</td>\n",
              "      <td>1</td>\n",
              "      <td>128</td>\n",
              "      <td>477</td>\n",
              "      <td>605</td>\n",
              "    </tr>\n",
              "    <tr>\n",
              "      <th>11</th>\n",
              "      <td>Caucasian</td>\n",
              "      <td>2</td>\n",
              "      <td>100</td>\n",
              "      <td>221</td>\n",
              "      <td>321</td>\n",
              "    </tr>\n",
              "    <tr>\n",
              "      <th>12</th>\n",
              "      <td>Caucasian</td>\n",
              "      <td>3</td>\n",
              "      <td>82</td>\n",
              "      <td>156</td>\n",
              "      <td>238</td>\n",
              "    </tr>\n",
              "    <tr>\n",
              "      <th>13</th>\n",
              "      <td>Caucasian</td>\n",
              "      <td>4</td>\n",
              "      <td>98</td>\n",
              "      <td>145</td>\n",
              "      <td>243</td>\n",
              "    </tr>\n",
              "    <tr>\n",
              "      <th>14</th>\n",
              "      <td>Caucasian</td>\n",
              "      <td>5</td>\n",
              "      <td>91</td>\n",
              "      <td>109</td>\n",
              "      <td>200</td>\n",
              "    </tr>\n",
              "    <tr>\n",
              "      <th>15</th>\n",
              "      <td>Caucasian</td>\n",
              "      <td>6</td>\n",
              "      <td>93</td>\n",
              "      <td>67</td>\n",
              "      <td>160</td>\n",
              "    </tr>\n",
              "    <tr>\n",
              "      <th>16</th>\n",
              "      <td>Caucasian</td>\n",
              "      <td>7</td>\n",
              "      <td>68</td>\n",
              "      <td>45</td>\n",
              "      <td>113</td>\n",
              "    </tr>\n",
              "    <tr>\n",
              "      <th>17</th>\n",
              "      <td>Caucasian</td>\n",
              "      <td>8</td>\n",
              "      <td>72</td>\n",
              "      <td>24</td>\n",
              "      <td>96</td>\n",
              "    </tr>\n",
              "    <tr>\n",
              "      <th>18</th>\n",
              "      <td>Caucasian</td>\n",
              "      <td>9</td>\n",
              "      <td>55</td>\n",
              "      <td>22</td>\n",
              "      <td>77</td>\n",
              "    </tr>\n",
              "    <tr>\n",
              "      <th>19</th>\n",
              "      <td>Caucasian</td>\n",
              "      <td>10</td>\n",
              "      <td>35</td>\n",
              "      <td>15</td>\n",
              "      <td>50</td>\n",
              "    </tr>\n",
              "  </tbody>\n",
              "</table>\n",
              "</div>"
            ],
            "text/plain": [
              "                race  decile_score  recid_count  non_recid_count  total_count\n",
              "0   African-American             1           85              280          365\n",
              "1   African-American             2          105              241          346\n",
              "2   African-American             3          125              173          298\n",
              "3   African-American             4          158              179          337\n",
              "4   African-American             5          158              165          323\n",
              "5   African-American             6          187              131          318\n",
              "6   African-American             7          209              134          343\n",
              "7   African-American             8          215               86          301\n",
              "8   African-American             9          229               88          317\n",
              "9   African-American            10          190               37          227\n",
              "10         Caucasian             1          128              477          605\n",
              "11         Caucasian             2          100              221          321\n",
              "12         Caucasian             3           82              156          238\n",
              "13         Caucasian             4           98              145          243\n",
              "14         Caucasian             5           91              109          200\n",
              "15         Caucasian             6           93               67          160\n",
              "16         Caucasian             7           68               45          113\n",
              "17         Caucasian             8           72               24           96\n",
              "18         Caucasian             9           55               22           77\n",
              "19         Caucasian            10           35               15           50"
            ]
          },
          "execution_count": 15,
          "metadata": {},
          "output_type": "execute_result"
        }
      ],
      "source": [
        "summary = groups['two_year_recid'].agg({'recid_count': recid_count_fn, 'non_recid_count': non_recid_count_fn, 'total_count': total_count_fn})\n",
        "summary"
      ]
    },
    {
      "cell_type": "markdown",
      "metadata": {
        "id": "ILtIpP95-q5C"
      },
      "source": [
        "## Question 2.B. Explore different decision thresholds.\n",
        "\n",
        "For each race in the `summary` dataframe, we will investigate outcome when we set the decision threshold to be each `decile_score`.\n",
        "\n",
        "Specifically, we will iterate through the `decile_scores` in the `summary` dataframe, and for each `decile_score`, we will compute the number of true positives, true negatives, false positives, and false negatives under the assumption that the decision threshold occurs just below this `decile_score`. For example, in the row of the `summary` dataframe corresponding to a `decile_score` of 5, we will compute the number of true positives under the assumption that every example receiving a `decile_score` of 5 or above is classified as positive.\n",
        "\n",
        "Your task is to fill in the missing parts for the four functions below:\n",
        "1. `get_TN_column`\n",
        "2. `get_FP_column`\n",
        "3. `get_FN_column`\n",
        "\n",
        "We have provided an example on how to implement `get_TP_column`.\n"
      ]
    },
    {
      "cell_type": "code",
      "execution_count": null,
      "metadata": {
        "colab": {
          "base_uri": "https://localhost:8080/",
          "height": 52
        },
        "id": "sbjSqjR2-wGa",
        "outputId": "8722890a-9d18-417d-dfd0-1e88e84e7267"
      },
      "outputs": [
        {
          "name": "stdout",
          "output_type": "stream",
          "text": [
            "TP column for Caucasian: [822 694 594 512 414 323 230 162  90  35]\n",
            "Test passed!\n"
          ]
        }
      ],
      "source": [
        "# Compute the number of true positives assuming the decision threshold \n",
        "# occurs just below each decile_score.\n",
        "# If you'd like, you may also restructure the loop inside this function \n",
        "# (but do not change the function definition).\n",
        "def get_TP_column(summary_df):\n",
        "    \"\"\"Returns an array of the number of true positives for each decile_score threshold.\n",
        "    \n",
        "    Args:\n",
        "      summary_df: dataframe containing columns for 'decile_score', 'recid_count', \n",
        "        'non_recid_count', and 'total_count' for a single race.\n",
        "    \n",
        "    Returns:\n",
        "      An array of the number of true positives for each decile_score (under the assumption that every example\n",
        "      receiving that row's decile_score or above is classified as positive -- aka, the decision threshold occurs\n",
        "      just below the row's decile score.)\n",
        "    \"\"\"\n",
        "    TPs = []\n",
        "    for threshold in summary_df['decile_score']:\n",
        "        true_positives = sum(summary_df[summary_df['decile_score'] \n",
        "                                        >= threshold]['recid_count'])# Compute the number of true positives for this threshold. \n",
        "                                                                     # Iterate through the summary_df, compare the threshold to 'decile_score', and add up the 'recid_count' column.\n",
        "        TPs.append(true_positives)\n",
        "    return np.array(TPs, dtype=np.int32)\n",
        "\n",
        "print(\"TP column for Caucasian:\", get_TP_column(summary[summary['race']=='Caucasian']))\n",
        "\n",
        "assert(get_hash(get_TP_column(summary[summary['race']=='Caucasian'])) == 'fdca79d31fe11760d9c6a06a4f8cb660')\n",
        "print(\"Test passed!\")"
      ]
    },
    {
      "cell_type": "code",
      "execution_count": null,
      "metadata": {
        "id": "xRqRmPCnCwAi",
        "outputId": "5a0aab57-3d30-4b91-a325-afa58f7e7dc1"
      },
      "outputs": [
        {
          "name": "stdout",
          "output_type": "stream",
          "text": [
            "TN column for Caucasian: [   0  477  698  854  999 1108 1175 1220 1244 1266]\n",
            "Test passed!\n"
          ]
        }
      ],
      "source": [
        "# Compute the number of true negatives assuming the decision threshold \n",
        "# occurs just below each decile_score.\n",
        "def get_TN_column(summary_df):\n",
        "    \"\"\"Returns an array of the number of true negatives for each decile_score threshold.\n",
        "    \n",
        "    Args:\n",
        "      summary_df: dataframe containing columns for 'decile_score', 'recid_count', \n",
        "        'non_recid_count', and 'total_count' for a given race.\n",
        "    \n",
        "    Returns:\n",
        "      An array of the number of true negatives for each decile_score (under the assumption that every example\n",
        "      receiving that row's decile_score or above is classified as positive -- aka, the decision threshold occurs\n",
        "      just below the row's decile score.)\n",
        "    \"\"\"\n",
        "    TNs = []\n",
        "    for threshold in summary_df['decile_score']:\n",
        "        true_negatives =  sum(summary_df[summary_df['decile_score'] \n",
        "                                        < threshold]['non_recid_count'])\n",
        "        TNs.append(true_negatives)\n",
        "    return np.array(TNs, dtype=np.int32)\n",
        "\n",
        "print(\"TN column for Caucasian:\", get_TN_column(summary[summary['race']=='Caucasian']))\n",
        "\n",
        "assert(get_hash(get_TN_column(summary[summary['race']=='Caucasian']))  == '8175ee4854079441b234ca97e7f9a1c5')\n",
        "print(\"Test passed!\")"
      ]
    },
    {
      "cell_type": "code",
      "execution_count": null,
      "metadata": {
        "id": "5o7BTZXVPgtW",
        "outputId": "66703cb1-29ad-4852-aab8-4e557a42f006"
      },
      "outputs": [
        {
          "name": "stdout",
          "output_type": "stream",
          "text": [
            "FP column for Caucasian: [1281  804  583  427  282  173  106   61   37   15]\n",
            "Test passed!\n"
          ]
        }
      ],
      "source": [
        "# Compute the number of false positives assuming the decision threshold \n",
        "# occurs just below each decile_score.\n",
        "def get_FP_column(summary_df):\n",
        "    \"\"\"Returns an array of the number of false positives for each decile_score threshold.\n",
        "    \n",
        "    Args:\n",
        "      summary_df: dataframe containing columns for 'decile_score', 'recid_count', \n",
        "        'non_recid_count', and 'total_count' for a given race.\n",
        "    \n",
        "    Returns:\n",
        "      An array of the number of false positives for each decile_score (under the assumption that every example\n",
        "      receiving that row's decile_score or above is classified as positive -- aka, the decision threshold occurs\n",
        "      just below the row's decile score.)\n",
        "    \"\"\"\n",
        "    FPs = []\n",
        "    for threshold in summary_df['decile_score']:\n",
        "        false_positives = sum(summary_df[summary_df['decile_score'] \n",
        "                                        >= threshold]['non_recid_count'])          \n",
        "        FPs.append(false_positives)\n",
        "    return np.array(FPs, dtype=np.int32)\n",
        "\n",
        "print(\"FP column for Caucasian:\", get_FP_column(summary[summary['race']=='Caucasian']))\n",
        "\n",
        "assert(get_hash(get_FP_column(summary[summary['race']=='Caucasian']))  == 'bc995fd0c02ad77eb6924ea48482f9ed')\n",
        "print(\"Test passed!\")"
      ]
    },
    {
      "cell_type": "code",
      "execution_count": null,
      "metadata": {
        "id": "TJ7tLF_GPkEI",
        "outputId": "d68de454-5f71-4a23-a1b8-e117c236770b"
      },
      "outputs": [
        {
          "name": "stdout",
          "output_type": "stream",
          "text": [
            "FN column for Caucasian: [  0 128 228 310 408 499 592 660 732 787]\n",
            "Test passed!\n"
          ]
        }
      ],
      "source": [
        "# Compute the number of false negatives assuming the decision threshold \n",
        "# occurs just below each decile_score.\n",
        "def get_FN_column(summary_df):\n",
        "    \"\"\"Returns an array of the number of false negatives for each decile_score threshold.\n",
        "    \n",
        "    Args:\n",
        "      summary_df: dataframe containing columns for 'decile_score', 'recid_count', \n",
        "        'non_recid_count', and 'total_count' for a given race.\n",
        "    \n",
        "    Returns:\n",
        "      An array of the number of false negatives for each decile_score (under the assumption that every example\n",
        "      receiving that row's decile_score or above is classified as positive -- aka, the decision threshold occurs\n",
        "      just below the row's decile score.)\n",
        "    \"\"\"\n",
        "    FNs = []\n",
        "    for threshold in summary_df['decile_score']:\n",
        "        false_negatives = sum(summary_df[summary_df['decile_score'] \n",
        "                                        < threshold]['recid_count'])    \n",
        "        FNs.append(false_negatives)\n",
        "    return np.array(FNs, dtype=np.int32)\n",
        "\n",
        "print(\"FN column for Caucasian:\", get_FN_column(summary[summary['race']=='Caucasian']))\n",
        "\n",
        "assert(get_hash(get_FN_column(summary[summary['race']=='Caucasian']))  == 'f680125060a0bfb18a1447c6658fdfb8')\n",
        "print(\"Test passed!\")"
      ]
    },
    {
      "cell_type": "code",
      "execution_count": null,
      "metadata": {
        "id": "hW2SrJN0PoFr",
        "outputId": "c4b1e89f-e18f-4d8f-a27f-2ad702ffd877"
      },
      "outputs": [
        {
          "data": {
            "text/html": [
              "<div>\n",
              "<style scoped>\n",
              "    .dataframe tbody tr th:only-of-type {\n",
              "        vertical-align: middle;\n",
              "    }\n",
              "\n",
              "    .dataframe tbody tr th {\n",
              "        vertical-align: top;\n",
              "    }\n",
              "\n",
              "    .dataframe thead th {\n",
              "        text-align: right;\n",
              "    }\n",
              "</style>\n",
              "<table border=\"1\" class=\"dataframe\">\n",
              "  <thead>\n",
              "    <tr style=\"text-align: right;\">\n",
              "      <th></th>\n",
              "      <th>race</th>\n",
              "      <th>decile_score</th>\n",
              "      <th>recid_count</th>\n",
              "      <th>non_recid_count</th>\n",
              "      <th>total_count</th>\n",
              "      <th>TP</th>\n",
              "      <th>TN</th>\n",
              "      <th>FP</th>\n",
              "      <th>FN</th>\n",
              "    </tr>\n",
              "  </thead>\n",
              "  <tbody>\n",
              "    <tr>\n",
              "      <th>0</th>\n",
              "      <td>African-American</td>\n",
              "      <td>1</td>\n",
              "      <td>85</td>\n",
              "      <td>280</td>\n",
              "      <td>365</td>\n",
              "      <td>1661.0</td>\n",
              "      <td>0.0</td>\n",
              "      <td>1514.0</td>\n",
              "      <td>0.0</td>\n",
              "    </tr>\n",
              "    <tr>\n",
              "      <th>1</th>\n",
              "      <td>African-American</td>\n",
              "      <td>2</td>\n",
              "      <td>105</td>\n",
              "      <td>241</td>\n",
              "      <td>346</td>\n",
              "      <td>1576.0</td>\n",
              "      <td>280.0</td>\n",
              "      <td>1234.0</td>\n",
              "      <td>85.0</td>\n",
              "    </tr>\n",
              "    <tr>\n",
              "      <th>2</th>\n",
              "      <td>African-American</td>\n",
              "      <td>3</td>\n",
              "      <td>125</td>\n",
              "      <td>173</td>\n",
              "      <td>298</td>\n",
              "      <td>1471.0</td>\n",
              "      <td>521.0</td>\n",
              "      <td>993.0</td>\n",
              "      <td>190.0</td>\n",
              "    </tr>\n",
              "    <tr>\n",
              "      <th>3</th>\n",
              "      <td>African-American</td>\n",
              "      <td>4</td>\n",
              "      <td>158</td>\n",
              "      <td>179</td>\n",
              "      <td>337</td>\n",
              "      <td>1346.0</td>\n",
              "      <td>694.0</td>\n",
              "      <td>820.0</td>\n",
              "      <td>315.0</td>\n",
              "    </tr>\n",
              "    <tr>\n",
              "      <th>4</th>\n",
              "      <td>African-American</td>\n",
              "      <td>5</td>\n",
              "      <td>158</td>\n",
              "      <td>165</td>\n",
              "      <td>323</td>\n",
              "      <td>1188.0</td>\n",
              "      <td>873.0</td>\n",
              "      <td>641.0</td>\n",
              "      <td>473.0</td>\n",
              "    </tr>\n",
              "    <tr>\n",
              "      <th>5</th>\n",
              "      <td>African-American</td>\n",
              "      <td>6</td>\n",
              "      <td>187</td>\n",
              "      <td>131</td>\n",
              "      <td>318</td>\n",
              "      <td>1030.0</td>\n",
              "      <td>1038.0</td>\n",
              "      <td>476.0</td>\n",
              "      <td>631.0</td>\n",
              "    </tr>\n",
              "    <tr>\n",
              "      <th>6</th>\n",
              "      <td>African-American</td>\n",
              "      <td>7</td>\n",
              "      <td>209</td>\n",
              "      <td>134</td>\n",
              "      <td>343</td>\n",
              "      <td>843.0</td>\n",
              "      <td>1169.0</td>\n",
              "      <td>345.0</td>\n",
              "      <td>818.0</td>\n",
              "    </tr>\n",
              "    <tr>\n",
              "      <th>7</th>\n",
              "      <td>African-American</td>\n",
              "      <td>8</td>\n",
              "      <td>215</td>\n",
              "      <td>86</td>\n",
              "      <td>301</td>\n",
              "      <td>634.0</td>\n",
              "      <td>1303.0</td>\n",
              "      <td>211.0</td>\n",
              "      <td>1027.0</td>\n",
              "    </tr>\n",
              "    <tr>\n",
              "      <th>8</th>\n",
              "      <td>African-American</td>\n",
              "      <td>9</td>\n",
              "      <td>229</td>\n",
              "      <td>88</td>\n",
              "      <td>317</td>\n",
              "      <td>419.0</td>\n",
              "      <td>1389.0</td>\n",
              "      <td>125.0</td>\n",
              "      <td>1242.0</td>\n",
              "    </tr>\n",
              "    <tr>\n",
              "      <th>9</th>\n",
              "      <td>African-American</td>\n",
              "      <td>10</td>\n",
              "      <td>190</td>\n",
              "      <td>37</td>\n",
              "      <td>227</td>\n",
              "      <td>190.0</td>\n",
              "      <td>1477.0</td>\n",
              "      <td>37.0</td>\n",
              "      <td>1471.0</td>\n",
              "    </tr>\n",
              "    <tr>\n",
              "      <th>10</th>\n",
              "      <td>Caucasian</td>\n",
              "      <td>1</td>\n",
              "      <td>128</td>\n",
              "      <td>477</td>\n",
              "      <td>605</td>\n",
              "      <td>822.0</td>\n",
              "      <td>0.0</td>\n",
              "      <td>1281.0</td>\n",
              "      <td>0.0</td>\n",
              "    </tr>\n",
              "    <tr>\n",
              "      <th>11</th>\n",
              "      <td>Caucasian</td>\n",
              "      <td>2</td>\n",
              "      <td>100</td>\n",
              "      <td>221</td>\n",
              "      <td>321</td>\n",
              "      <td>694.0</td>\n",
              "      <td>477.0</td>\n",
              "      <td>804.0</td>\n",
              "      <td>128.0</td>\n",
              "    </tr>\n",
              "    <tr>\n",
              "      <th>12</th>\n",
              "      <td>Caucasian</td>\n",
              "      <td>3</td>\n",
              "      <td>82</td>\n",
              "      <td>156</td>\n",
              "      <td>238</td>\n",
              "      <td>594.0</td>\n",
              "      <td>698.0</td>\n",
              "      <td>583.0</td>\n",
              "      <td>228.0</td>\n",
              "    </tr>\n",
              "    <tr>\n",
              "      <th>13</th>\n",
              "      <td>Caucasian</td>\n",
              "      <td>4</td>\n",
              "      <td>98</td>\n",
              "      <td>145</td>\n",
              "      <td>243</td>\n",
              "      <td>512.0</td>\n",
              "      <td>854.0</td>\n",
              "      <td>427.0</td>\n",
              "      <td>310.0</td>\n",
              "    </tr>\n",
              "    <tr>\n",
              "      <th>14</th>\n",
              "      <td>Caucasian</td>\n",
              "      <td>5</td>\n",
              "      <td>91</td>\n",
              "      <td>109</td>\n",
              "      <td>200</td>\n",
              "      <td>414.0</td>\n",
              "      <td>999.0</td>\n",
              "      <td>282.0</td>\n",
              "      <td>408.0</td>\n",
              "    </tr>\n",
              "    <tr>\n",
              "      <th>15</th>\n",
              "      <td>Caucasian</td>\n",
              "      <td>6</td>\n",
              "      <td>93</td>\n",
              "      <td>67</td>\n",
              "      <td>160</td>\n",
              "      <td>323.0</td>\n",
              "      <td>1108.0</td>\n",
              "      <td>173.0</td>\n",
              "      <td>499.0</td>\n",
              "    </tr>\n",
              "    <tr>\n",
              "      <th>16</th>\n",
              "      <td>Caucasian</td>\n",
              "      <td>7</td>\n",
              "      <td>68</td>\n",
              "      <td>45</td>\n",
              "      <td>113</td>\n",
              "      <td>230.0</td>\n",
              "      <td>1175.0</td>\n",
              "      <td>106.0</td>\n",
              "      <td>592.0</td>\n",
              "    </tr>\n",
              "    <tr>\n",
              "      <th>17</th>\n",
              "      <td>Caucasian</td>\n",
              "      <td>8</td>\n",
              "      <td>72</td>\n",
              "      <td>24</td>\n",
              "      <td>96</td>\n",
              "      <td>162.0</td>\n",
              "      <td>1220.0</td>\n",
              "      <td>61.0</td>\n",
              "      <td>660.0</td>\n",
              "    </tr>\n",
              "    <tr>\n",
              "      <th>18</th>\n",
              "      <td>Caucasian</td>\n",
              "      <td>9</td>\n",
              "      <td>55</td>\n",
              "      <td>22</td>\n",
              "      <td>77</td>\n",
              "      <td>90.0</td>\n",
              "      <td>1244.0</td>\n",
              "      <td>37.0</td>\n",
              "      <td>732.0</td>\n",
              "    </tr>\n",
              "    <tr>\n",
              "      <th>19</th>\n",
              "      <td>Caucasian</td>\n",
              "      <td>10</td>\n",
              "      <td>35</td>\n",
              "      <td>15</td>\n",
              "      <td>50</td>\n",
              "      <td>35.0</td>\n",
              "      <td>1266.0</td>\n",
              "      <td>15.0</td>\n",
              "      <td>787.0</td>\n",
              "    </tr>\n",
              "  </tbody>\n",
              "</table>\n",
              "</div>"
            ],
            "text/plain": [
              "                race  decile_score  recid_count  non_recid_count  total_count  \\\n",
              "0   African-American             1           85              280          365   \n",
              "1   African-American             2          105              241          346   \n",
              "2   African-American             3          125              173          298   \n",
              "3   African-American             4          158              179          337   \n",
              "4   African-American             5          158              165          323   \n",
              "5   African-American             6          187              131          318   \n",
              "6   African-American             7          209              134          343   \n",
              "7   African-American             8          215               86          301   \n",
              "8   African-American             9          229               88          317   \n",
              "9   African-American            10          190               37          227   \n",
              "10         Caucasian             1          128              477          605   \n",
              "11         Caucasian             2          100              221          321   \n",
              "12         Caucasian             3           82              156          238   \n",
              "13         Caucasian             4           98              145          243   \n",
              "14         Caucasian             5           91              109          200   \n",
              "15         Caucasian             6           93               67          160   \n",
              "16         Caucasian             7           68               45          113   \n",
              "17         Caucasian             8           72               24           96   \n",
              "18         Caucasian             9           55               22           77   \n",
              "19         Caucasian            10           35               15           50   \n",
              "\n",
              "        TP      TN      FP      FN  \n",
              "0   1661.0     0.0  1514.0     0.0  \n",
              "1   1576.0   280.0  1234.0    85.0  \n",
              "2   1471.0   521.0   993.0   190.0  \n",
              "3   1346.0   694.0   820.0   315.0  \n",
              "4   1188.0   873.0   641.0   473.0  \n",
              "5   1030.0  1038.0   476.0   631.0  \n",
              "6    843.0  1169.0   345.0   818.0  \n",
              "7    634.0  1303.0   211.0  1027.0  \n",
              "8    419.0  1389.0   125.0  1242.0  \n",
              "9    190.0  1477.0    37.0  1471.0  \n",
              "10   822.0     0.0  1281.0     0.0  \n",
              "11   694.0   477.0   804.0   128.0  \n",
              "12   594.0   698.0   583.0   228.0  \n",
              "13   512.0   854.0   427.0   310.0  \n",
              "14   414.0   999.0   282.0   408.0  \n",
              "15   323.0  1108.0   173.0   499.0  \n",
              "16   230.0  1175.0   106.0   592.0  \n",
              "17   162.0  1220.0    61.0   660.0  \n",
              "18    90.0  1244.0    37.0   732.0  \n",
              "19    35.0  1266.0    15.0   787.0  "
            ]
          },
          "execution_count": 20,
          "metadata": {},
          "output_type": "execute_result"
        }
      ],
      "source": [
        "# Note: nothing you need to do in this cell, just run it to assign the columns you created to the summary dataframe.\n",
        "# Add in the TP, TN, FP, FN information for each race.\n",
        "for race in races:\n",
        "    rows = summary['race'] == race\n",
        "    summary.loc[rows, 'TP'] = get_TP_column(summary[rows])\n",
        "    summary.loc[rows, 'TN'] = get_TN_column(summary[rows])\n",
        "    summary.loc[rows, 'FP'] = get_FP_column(summary[rows])\n",
        "    summary.loc[rows, 'FN'] = get_FN_column(summary[rows])\n",
        "summary.fillna(0 , inplace=True)\n",
        "summary"
      ]
    },
    {
      "cell_type": "markdown",
      "metadata": {
        "id": "r8nxDtD-c1VR"
      },
      "source": [
        "## Question 2.C. Computer Disparity.\n",
        "\n",
        "Here you will first write code to compute the the true positive rate (TPR), false positive rate (FPR), and positive predictive value (PPV) metrics. PPV is also known as precision, and is defined as the number of true positives divided by the number of examples classified as positive. \n",
        "\n",
        "We have provided an example on how to compute TPR. Your task is to fill in the details for FPR and PPV.\n"
      ]
    },
    {
      "cell_type": "code",
      "execution_count": null,
      "metadata": {
        "colab": {
          "base_uri": "https://localhost:8080/",
          "height": 35
        },
        "id": "TImqtsWdc6ED",
        "outputId": "a80e05df-a510-4ac6-9d69-8c11bee979a3"
      },
      "outputs": [
        {
          "name": "stdout",
          "output_type": "stream",
          "text": [
            "Test passed!\n"
          ]
        }
      ],
      "source": [
        "# Sample code: compute the TPR for each race using other columns in summary.\n",
        "summary['TPR'] = summary['TP'] / (summary['TP'] + summary['FN']) \n",
        "\n",
        "assert(get_hash(np.array(summary['TPR'].round(1), dtype=np.float32)) == '4e6755717caed5f4d6a62fc6fe8abbee')\n",
        "print(\"Test passed!\")"
      ]
    },
    {
      "cell_type": "code",
      "execution_count": null,
      "metadata": {
        "id": "gSZi4F_0gB_u",
        "outputId": "bc542d7e-598c-486c-d47e-62e7052bc6d7"
      },
      "outputs": [
        {
          "name": "stdout",
          "output_type": "stream",
          "text": [
            "Test passed!\n"
          ]
        }
      ],
      "source": [
        "# FILL IN: compute the FPR for each race using other columns in summary.\n",
        "summary['FPR'] =  summary['FP'] / (summary['FP'] + summary['TN']) \n",
        "\n",
        "assert(get_hash(np.array(summary['FPR'].round(1), dtype=np.float32)) == 'e0eba6216d5fada1d6eabbfe568c527b')\n",
        "print(\"Test passed!\")"
      ]
    },
    {
      "cell_type": "code",
      "execution_count": null,
      "metadata": {
        "id": "lQvDHEIShIOC",
        "outputId": "7e751c19-e4c2-407d-f8cf-63226172d592"
      },
      "outputs": [
        {
          "name": "stdout",
          "output_type": "stream",
          "text": [
            "Test passed!\n"
          ]
        }
      ],
      "source": [
        "# FILL IN: compute the PPV for each race using other columns in summary.\n",
        "summary['PPV'] = summary['TP'] / (summary['FP'] + summary['TP']) \n",
        "\n",
        "assert(get_hash(np.array(summary['PPV'].round(1), dtype=np.float32))  == '6db5b24b7cd46af910f6a781eee40134')\n",
        "print(\"Test passed!\")"
      ]
    },
    {
      "cell_type": "markdown",
      "metadata": {
        "id": "dida3BW_kZ8h",
        "vscode": {
          "languageId": "bat"
        }
      },
      "source": [
        "Next, now suppose we use the same threshold for both groups. Answer the following:\n",
        "1. What is the threshold that leads to the largest disparity in FPR (the difference between the FPRs between two groups)?\n",
        "2. What is the threshold that leads to the largest disparity in PPV (the difference between the PPVs between two groups)?\n",
        "\n",
        "_Double click to write your answer question here. Show your work in code below if applicable._\n",
        "\n",
        "My answer: threshold 4 leads to the largest disparity in FPR and threshold 10 leads to the biggest disparity in PPV. "
      ]
    },
    {
      "cell_type": "code",
      "execution_count": null,
      "metadata": {
        "id": "ndO_w5foTher",
        "outputId": "9b599468-47ee-48f8-c367-868a26d33bec"
      },
      "outputs": [
        {
          "name": "stdout",
          "output_type": "stream",
          "text": [
            "largest FRR\n",
            "0.20827829150154115\n",
            "4\n",
            "largest PPV\n",
            "0.1370044052863436\n",
            "10\n"
          ]
        }
      ],
      "source": [
        "largest_FPR = 0\n",
        "largest_FPR_threshold = 0 \n",
        "for i in range(0,10):\n",
        "    \n",
        "    if abs(summary['FPR'][i] - summary['FPR'][i+10]) > largest_FPR:\n",
        "        largest_FPR = abs(summary['FPR'][i] - summary['FPR'][i+10])\n",
        "        largest_FPR_threshold = i + 1\n",
        "\n",
        "print('largest FRR')\n",
        "print(largest_FPR)\n",
        "print(largest_FPR_threshold)\n",
        "\n",
        "\n",
        "largest_PPV = 0\n",
        "largest_PPV_threshold = 0 \n",
        "for i in range(0,10):\n",
        "    \n",
        "    if abs(summary['PPV'][i] - summary['PPV'][i+10]) > largest_PPV:\n",
        "        largest_PPV = abs(summary['PPV'][i] - summary['PPV'][i+10])\n",
        "        largest_PPV_threshold = i + 1\n",
        "\n",
        "print('largest PPV')\n",
        "print(largest_PPV)\n",
        "print(largest_PPV_threshold)"
      ]
    },
    {
      "cell_type": "markdown",
      "metadata": {
        "id": "AktPZXV_h0NJ"
      },
      "source": [
        "## Question 2.D. ROC\n",
        "First, we will plot the ROC curve for each race. Please fill in the missing details below for the plotting code.\n",
        "\n"
      ]
    },
    {
      "cell_type": "code",
      "execution_count": null,
      "metadata": {
        "id": "Bv2X3J5FiG_e",
        "outputId": "944f0b9b-e909-4b49-c6d6-a4928722ad68"
      },
      "outputs": [
        {
          "data": {
            "image/png": "[encoded data removed]",
            "text/plain": [
              "<Figure size 432x288 with 1 Axes>"
            ]
          },
          "metadata": {
            "needs_background": "light"
          },
          "output_type": "display_data"
        }
      ],
      "source": [
        "# FILL IN: plot the ROC curve for each race.\n",
        "plt.figure()\n",
        "\n",
        "for race in races: \n",
        "    rows = summary[summary['race']==race]\n",
        "    plt.plot(rows['FPR'], rows['TPR'], '-o', label=race) # FILL IN the correct columns to use.\n",
        "    \n",
        "plt.legend()\n",
        "plt.xlabel('False Positive Rate') # FILL IN the correct labels for the x axis on an ROC curve.\n",
        "plt.ylabel('True Positive Rate') # FILL IN the correct labels for the y axis on an ROC curve.\n",
        "plt.show()"
      ]
    },
    {
      "cell_type": "markdown",
      "metadata": {
        "id": "yifMZ-YJnEjM"
      },
      "source": [
        "## Question 2.E. Equalizing TPR and FPR\n",
        "\n",
        "Next, find two thresholds (one for black defendants, one for white defendants) such that FPR and TPR are roughly equal for the two groups (say, within 1% of each other).\n",
        "Note: trivial thresholds of 0 or 11\n",
        "don’t count. Hint: it may be helpful to look at the ROC curves for each race."
      ]
    },
    {
      "cell_type": "code",
      "execution_count": null,
      "metadata": {
        "id": "uSppT2xfnE-p"
      },
      "outputs": [],
      "source": [
        "# FILL IN: choose a decision threshold for each race corresponding to a \n",
        "# decile_score between 1 and 10 such that the FPR and TPR are \n",
        "# roughly equal for the two races.\n",
        "\n",
        "caucasian_threshold = 5\n",
        "african_american_threshold = 7\n",
        "thresh = {'Caucasian': caucasian_threshold, 'African-American': african_american_threshold}  "
      ]
    },
    {
      "cell_type": "markdown",
      "metadata": {
        "id": "34Y6KrzSnopW"
      },
      "source": [
        "Finally, for the pair of thresholds you have selected above, what is the disparity of PPV across the two groups?\n",
        "\n",
        "_Double click to write your answer question here. Show your work in code below if applicable._"
      ]
    },
    {
      "cell_type": "code",
      "execution_count": null,
      "metadata": {
        "id": "MikZ3jKan2yL",
        "outputId": "e5811e58-1793-46e6-97e3-d9eaf69e8c91"
      },
      "outputs": [
        {
          "name": "stdout",
          "output_type": "stream",
          "text": [
            "0.060060694423734295\n"
          ]
        }
      ],
      "source": [
        "# The diparity value is about 6%\n",
        "print(abs(summary['PPV'][caucasian_threshold - 1] - summary['PPV'][african_american_threshold-1]))"
      ]
    }
  ],
  "metadata": {
    "colab": {
      "provenance": [],
      "include_colab_link": true
    },
    "kernelspec": {
      "display_name": "Python 3.9.12 ('base')",
      "language": "python",
      "name": "python3"
    },
    "language_info": {
      "codemirror_mode": {
        "name": "ipython",
        "version": 3
      },
      "file_extension": ".py",
      "mimetype": "text/x-python",
      "name": "python",
      "nbconvert_exporter": "python",
      "pygments_lexer": "ipython3",
      "version": "3.9.12"
    },
    "vscode": {
      "interpreter": {
        "hash": "292d121a3cd8b58e15017570a069d70a98f85cefb4b28bb657f7594372f7773c"
      }
    }
  },
  "nbformat": 4,
  "nbformat_minor": 0
}